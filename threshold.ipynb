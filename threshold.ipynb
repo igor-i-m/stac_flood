{
 "cells": [
  {
   "cell_type": "code",
   "execution_count": 1,
   "id": "ea9205b4-5964-4a49-9a61-83180e05e32f",
   "metadata": {},
   "outputs": [],
   "source": [
    "import torch\n",
    "import numpy as np\n",
    "import os\n",
    "import glob\n",
    "import segmentation_models_pytorch as smp\n",
    "import rasterio\n",
    "from tqdm import tqdm\n",
    "from torch.utils.data import Dataset, DataLoader\n",
    "from torch import nn\n",
    "from modules import STACDataset\n",
    "from pytorch_toolbelt.inference import tta\n",
    "import matplotlib.pyplot as plt\n",
    "os.environ['CUDA_VISIBLE_DEVICES'] = '2'"
   ]
  },
  {
   "cell_type": "code",
   "execution_count": 2,
   "id": "9e3bee39-92d6-4a2c-b359-69c03fa2d8b8",
   "metadata": {},
   "outputs": [],
   "source": [
    "class Ensembler(nn.Module):\n",
    "    def __init__(self, models):\n",
    "        super().__init__()\n",
    "        self.models = nn.ModuleList(models)\n",
    "        \n",
    "    def forward(self, inp):\n",
    "        \n",
    "        outputs = [model(inp) for model in self.models]\n",
    "        outputs = torch.stack(outputs, dim=0)\n",
    "        #return harmonic_mean(outputs)\n",
    "        return outputs.mean(dim=0)"
   ]
  },
  {
   "cell_type": "code",
   "execution_count": 3,
   "id": "1d3a9356-0719-4d4b-a60e-809f30e94561",
   "metadata": {},
   "outputs": [],
   "source": [
    "def setup(encoder_name, decoder_name, supplementary):\n",
    "    if supplementary:\n",
    "        in_channels=7\n",
    "    else:\n",
    "        in_channels=3\n",
    "    model = getattr(smp, decoder_name)(encoder_name, in_channels=in_channels, activation=None, encoder_weights=None).cuda()\n",
    "    return model\n",
    "\n",
    "def parse(path):\n",
    "    name = path.split('/')[-1]\n",
    "    encoder_name, decoder_name = name.split('.')[0:2]\n",
    "    return encoder_name, decoder_name\n",
    "\n",
    "def threshold(img, threshold=0.5):\n",
    "    thresholded = (img >= threshold).astype('uint8')\n",
    "    return thresholded\n",
    "\n",
    "def create_model(model_paths, supplementary):\n",
    "    \n",
    "    models = []\n",
    "    for path in model_paths:\n",
    "        ckpt = torch.load(path)\n",
    "        encoder_name, decoder_name = parse(path)\n",
    "        model = setup(encoder_name, decoder_name, supplementary)\n",
    "        model.load_state_dict(ckpt['model'])\n",
    "        models.append(model)\n",
    "    model = Ensembler(models)\n",
    "    return model"
   ]
  },
  {
   "cell_type": "code",
   "execution_count": 4,
   "id": "5d4ad76f-a4a7-48f7-b4c9-0e7e29037a0e",
   "metadata": {},
   "outputs": [],
   "source": [
    "def read_img_and_mask(fp):\n",
    "    with rasterio.open(fp) as f:\n",
    "        masked_arr = f.read(1, masked=True)\n",
    "        data = masked_arr.data\n",
    "        mask = masked_arr.mask\n",
    "    return data, mask\n",
    "\n",
    "\n",
    "def img2tensor(img,dtype:np.dtype=np.float32):\n",
    "    if img.ndim==2 : img = np.expand_dims(img,-1)\n",
    "    img = np.transpose(img,(2,0,1))\n",
    "    return torch.from_numpy(img.astype(dtype, copy=False))\n",
    "\n",
    "\n",
    "class STACDataset(Dataset):\n",
    "    def __init__(self, data_path, labels_path, supplementary=False, tfms=None):\n",
    "        self.ids = [fname[:5] for fname in os.listdir(labels_path)]\n",
    "        self.labels_path = labels_path\n",
    "        self.data_path = data_path\n",
    "        self.tfms = tfms\n",
    "        self.supplementary = supplementary\n",
    "        \n",
    "    def __len__(self):\n",
    "        return len(self.ids)\n",
    "    \n",
    "    def __getitem__(self, idx):\n",
    "        sample_id = self.ids[idx]\n",
    "        \n",
    "        fp_vv = os.path.join(self.data_path,sample_id+'_vv.tif')\n",
    "        img_vv, mask_vv = read_img_and_mask(fp_vv)\n",
    "        \n",
    "        fp_vh = os.path.join(self.data_path,sample_id+'_vh.tif')\n",
    "        img_vh, mask_vh = read_img_and_mask(fp_vh)\n",
    "        \n",
    "        fp_target = os.path.join(self.labels_path, sample_id+'.tif')\n",
    "        target, mask_target = read_img_and_mask(fp_target)\n",
    "        \n",
    "        img = np.stack([img_vv, img_vh], axis=-1)\n",
    "        \n",
    "        #norm\n",
    "        min_norm = -77\n",
    "        max_norm = 26\n",
    "        img = np.clip(img, min_norm, max_norm)\n",
    "        img = (img - min_norm) / (max_norm - min_norm)\n",
    "        \n",
    "        product = (img_vv**2)*(img_vh**2)\n",
    "        product = np.ma.masked_array(product, mask_vv | mask_vh)\n",
    "        min_product = product.min()\n",
    "        product = (product - min_product) / (product.max() - min_product)\n",
    "        product = np.expand_dims(product, -1)\n",
    "        img = np.concatenate([img, product.data], axis=-1)\n",
    "        \n",
    "        if self.supplementary:\n",
    "            supplementary = filter(\n",
    "                lambda path: ('vv' not in path) and ('vh' not in path) and ('nasadem' not in path) and ('change' not in path),\n",
    "                glob.glob(os.path.join(self.data_path, sample_id+'*.tif'))\n",
    "            )\n",
    "            \n",
    "            sup_imgs = []\n",
    "            for path in supplementary:\n",
    "                img_, mask_ = read_img_and_mask(path)\n",
    "                sup_imgs.append(img_)\n",
    "            \n",
    "            sup_imgs = np.stack(sup_imgs, axis=-1)\n",
    "            sup_imgs = sup_imgs / 255.0\n",
    "            \n",
    "            img = np.concatenate([img, sup_imgs.astype('float32')], axis=-1)\n",
    "        \n",
    "        if self.tfms is not None:\n",
    "            augmented = self.tfms(image=img,mask=target)\n",
    "            img, target = augmented['image'],augmented['mask']\n",
    "            \n",
    "        return img2tensor(img), img2tensor(target)"
   ]
  },
  {
   "cell_type": "code",
   "execution_count": 5,
   "id": "5630fc41-7b81-4407-b247-b00d200adce5",
   "metadata": {},
   "outputs": [],
   "source": [
    "def harmonic_mean(inp):\n",
    "    n = len(inp)\n",
    "    inverted = inp.pow(-1.0)\n",
    "    hm = n / torch.sum(inverted, dim=0)\n",
    "    return hm"
   ]
  },
  {
   "cell_type": "code",
   "execution_count": 7,
   "id": "8f0d303a-ac3f-488c-92c1-cd48adead388",
   "metadata": {},
   "outputs": [],
   "source": [
    "def IandU(pred, targ, threshold=0.5):\n",
    "    pred_bin = pred>threshold\n",
    "    targ_bin = targ>threshold\n",
    "    \n",
    "    intersection = torch.sum((pred_bin*targ_bin)>0).item()\n",
    "    union = torch.sum((pred_bin+targ_bin)>0).item()\n",
    "    \n",
    "    return intersection, union"
   ]
  },
  {
   "cell_type": "code",
   "execution_count": 15,
   "id": "e16d6347-136f-465e-a2b0-e3e419d7bb2c",
   "metadata": {
    "tags": []
   },
   "outputs": [],
   "source": [
    "supplementary = False\n",
    "model_paths = filter(lambda path: 'last' not in path,glob.glob('/storage1/iigor/drivendata/STAC_flood/checkpoints/STAC-175/*.pth'))\n",
    "model = create_model(model_paths, supplementary=supplementary)\n",
    "model.eval()\n",
    "model.cuda();"
   ]
  },
  {
   "cell_type": "code",
   "execution_count": 16,
   "id": "081c9834-f1c5-4733-bfb4-5da73d695a3c",
   "metadata": {},
   "outputs": [],
   "source": [
    "dataset_train = STACDataset(\n",
    "    data_path='/storage1/nerusskikh/drivendata/STAC_flood/data/train_features/',\n",
    "    labels_path='/storage1/nerusskikh/drivendata/STAC_flood/data/train_labels/',\n",
    "    supplementary=supplementary\n",
    ")\n",
    "dataloader = DataLoader(dataset_train, batch_size=16, shuffle=False, drop_last=False, num_workers=8)"
   ]
  },
  {
   "cell_type": "code",
   "execution_count": 17,
   "id": "14754d15-f307-4050-bde0-56f9bda3a67f",
   "metadata": {},
   "outputs": [
    {
     "name": "stderr",
     "output_type": "stream",
     "text": [
      "                                                                                                    \r"
     ]
    }
   ],
   "source": [
    "preds = []\n",
    "targets = []\n",
    "\n",
    "sigmoid = nn.Sigmoid()\n",
    "with torch.no_grad():\n",
    "    for step, (input_, target_)  in tqdm(enumerate(dataloader), total=len(dataloader), ncols=100, leave=False):\n",
    "        input_ = input_.cuda()\n",
    "        target_ = target_.cuda()\n",
    "        \n",
    "        if tta:\n",
    "            out_ = tta.d4_image2mask(model, input_)\n",
    "        else:\n",
    "            out_ = model(input_)\n",
    "        \n",
    "        mask = (target_ != 255) \n",
    "        target_ = target_*mask   \n",
    "        out_ = out_*mask\n",
    "        out_ = sigmoid(out_)\n",
    "        \n",
    "        preds.append(out_.detach().cpu())\n",
    "        targets.append(target_.detach().cpu())"
   ]
  },
  {
   "cell_type": "code",
   "execution_count": 18,
   "id": "80548bea-22ee-4d02-9a84-e1e689a66f2a",
   "metadata": {},
   "outputs": [],
   "source": [
    "thresholds = np.arange(0,1,0.01)\n",
    "scores = []\n",
    "for th in thresholds:\n",
    "    \n",
    "    val_intersections = []\n",
    "    val_unions = []\n",
    "    \n",
    "    for out_, target_ in zip(preds,targets):\n",
    "        i_, u_ = IandU(out_, target_, threshold = th)\n",
    "        val_intersections.append(i_)\n",
    "        val_unions.append(u_)\n",
    "        \n",
    "    aggregated_metric = np.sum(val_intersections)/(np.sum(val_unions)+1e-8)\n",
    "    scores.append(aggregated_metric)"
   ]
  },
  {
   "cell_type": "code",
   "execution_count": 19,
   "id": "e184290b-bb6e-4372-bbd7-ec95db188322",
   "metadata": {
    "tags": []
   },
   "outputs": [
    {
     "data": {
      "text/plain": [
       "<matplotlib.collections.PathCollection at 0x7f3972850710>"
      ]
     },
     "execution_count": 19,
     "metadata": {},
     "output_type": "execute_result"
    },
    {
     "data": {
      "image/png": "[encoded data removed]",
      "text/plain": [
       "<Figure size 1440x1440 with 1 Axes>"
      ]
     },
     "metadata": {
      "needs_background": "light"
     },
     "output_type": "display_data"
    }
   ],
   "source": [
    "figure = plt.figure(figsize=(20,20))\n",
    "plt.xticks(np.arange(0,1,0.05))\n",
    "plt.yticks(np.arange(0,1,0.05))\n",
    "plt.scatter(thresholds, scores)#, '-')"
   ]
  },
  {
   "cell_type": "code",
   "execution_count": 20,
   "id": "aa31eefc-35eb-4d60-94f4-3e2977c771e9",
   "metadata": {},
   "outputs": [
    {
     "data": {
      "text/plain": [
       "0.5"
      ]
     },
     "execution_count": 20,
     "metadata": {},
     "output_type": "execute_result"
    }
   ],
   "source": [
    "thresholds[np.argmax(scores)]"
   ]
  },
  {
   "cell_type": "code",
   "execution_count": 21,
   "id": "9a240f0f-bd56-413d-a901-51a461dff1a8",
   "metadata": {},
   "outputs": [
    {
     "data": {
      "text/plain": [
       "0.8873265882618019"
      ]
     },
     "execution_count": 21,
     "metadata": {},
     "output_type": "execute_result"
    }
   ],
   "source": [
    "np.max(scores)"
   ]
  },
  {
   "cell_type": "code",
   "execution_count": 60,
   "id": "b8125fa2-3c34-4fab-ac5c-50477da8d014",
   "metadata": {
    "tags": []
   },
   "outputs": [
    {
     "name": "stdout",
     "output_type": "stream",
     "text": [
      "0.14328370323040387 0.0\n",
      "0.37838438090834436 0.01\n",
      "0.4655008728443151 0.02\n",
      "0.5157172261673159 0.03\n",
      "0.5504814461390203 0.04\n",
      "0.5765474834307068 0.05\n",
      "0.5972207589264023 0.06\n",
      "0.6143260418975232 0.07\n",
      "0.6287982999722672 0.08\n",
      "0.6413828296804913 0.09\n",
      "0.6524931188274598 0.1\n",
      "0.6624011839504166 0.11\n",
      "0.6713178898567161 0.12\n",
      "0.6793685091869055 0.13\n",
      "0.6867138148956745 0.14\n",
      "0.693462269920312 0.15\n",
      "0.6996473276400277 0.16\n",
      "0.7053730484623751 0.17\n",
      "0.7106642955903723 0.18\n",
      "0.7155723509003864 0.19\n",
      "0.7201140771645964 0.2\n",
      "0.7243027426147239 0.21\n",
      "0.7282325446997734 0.22\n",
      "0.7319284120979934 0.23\n",
      "0.735388590355131 0.24\n",
      "0.7386552331079852 0.25\n",
      "0.7417169917688792 0.26\n",
      "0.7446226578807772 0.27\n",
      "0.747318649579597 0.28\n",
      "0.7498226650205918 0.29\n",
      "0.7521703124831873 0.3\n",
      "0.7543662284778659 0.31\n",
      "0.7564318036911236 0.32\n",
      "0.7583572088109269 0.33\n",
      "0.7601247192187478 0.34\n",
      "0.7618032255983259 0.35000000000000003\n",
      "0.7633342418790955 0.36\n",
      "0.7647547964136945 0.37\n",
      "0.7660503452495894 0.38\n",
      "0.7672255190385332 0.39\n",
      "0.7682726385392337 0.4\n",
      "0.7692183689021485 0.41000000000000003\n",
      "0.7700346161111308 0.42\n",
      "0.7707477674529388 0.43\n",
      "0.7713420261358459 0.44\n",
      "0.771819964354076 0.45\n",
      "0.7721799417696321 0.46\n",
      "0.772450659474718 0.47000000000000003\n",
      "0.7726033774198408 0.48\n",
      "0.7726212235122284 0.49\n",
      "0.86788771041413 0.5\n",
      "0.8678723099039538 0.51\n",
      "0.8677083486150448 0.52\n",
      "0.8674220798618402 0.53\n",
      "0.8669617575552976 0.54\n",
      "0.8663537831674785 0.55\n",
      "0.8655849725130668 0.56\n",
      "0.8646280975193811 0.5700000000000001\n",
      "0.8635371557901785 0.58\n",
      "0.8622689199428947 0.59\n",
      "0.8608423177652037 0.6\n",
      "0.85924774695725 0.61\n",
      "0.8574882966178684 0.62\n",
      "0.8555352344879716 0.63\n",
      "0.8534081087997516 0.64\n",
      "0.8511179612913949 0.65\n",
      "0.8486196290418895 0.66\n",
      "0.8459312779477294 0.67\n",
      "0.8430378075860571 0.68\n",
      "0.8399278859526916 0.6900000000000001\n",
      "0.8365658002528515 0.7000000000000001\n",
      "0.8329706971773445 0.71\n",
      "0.8290933807585433 0.72\n",
      "0.8249241781778274 0.73\n",
      "0.820502792615097 0.74\n",
      "0.8157726146356796 0.75\n",
      "0.8107166719841112 0.76\n",
      "0.8053009082163326 0.77\n",
      "0.799509174097271 0.78\n",
      "0.7933543861403636 0.79\n",
      "0.7868049396199585 0.8\n",
      "0.7797621426228089 0.81\n",
      "0.7722752482403406 0.8200000000000001\n",
      "0.7641924618309148 0.8300000000000001\n",
      "0.755493374359439 0.84\n",
      "0.7460330559401331 0.85\n",
      "0.7357731603696966 0.86\n",
      "0.7245792510988239 0.87\n",
      "0.7124749044424251 0.88\n",
      "0.699443424003387 0.89\n",
      "0.6852970861485965 0.9\n",
      "0.6699270761136622 0.91\n",
      "0.6527639896745259 0.92\n",
      "0.6330939457341859 0.93\n",
      "0.6098855511239669 0.9400000000000001\n",
      "0.581648475126454 0.9500000000000001\n",
      "0.5465052228304864 0.96\n",
      "0.5020121851458862 0.97\n",
      "0.448157045838781 0.98\n",
      "0.36661784101207606 0.99\n"
     ]
    }
   ],
   "source": [
    "for sc, th in zip(scores,thresholds):\n",
    "    print(sc,th)"
   ]
  }
 ],
 "metadata": {
  "kernelspec": {
   "display_name": "Python 3 (ipykernel)",
   "language": "python",
   "name": "python3"
  },
  "language_info": {
   "codemirror_mode": {
    "name": "ipython",
    "version": 3
   },
   "file_extension": ".py",
   "mimetype": "text/x-python",
   "name": "python",
   "nbconvert_exporter": "python",
   "pygments_lexer": "ipython3",
   "version": "3.7.11"
  }
 },
 "nbformat": 4,
 "nbformat_minor": 5
}
